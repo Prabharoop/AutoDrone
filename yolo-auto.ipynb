{
 "cells": [
  {
   "cell_type": "code",
   "execution_count": 1,
   "metadata": {},
   "outputs": [],
   "source": [
    "import numpy as np\n",
    "import os\n",
    "import imutils\n",
    "import time\n",
    "import cv2\n",
    "from imutils.video import VideoStream\n",
    "from imutils.video import FPS"
   ]
  },
  {
   "cell_type": "code",
   "execution_count": 2,
   "metadata": {},
   "outputs": [],
   "source": [
    "path = 'yolo-files'\n",
    "LabelsPath = os.path.join(path,'coco.names') "
   ]
  },
  {
   "cell_type": "code",
   "execution_count": 3,
   "metadata": {},
   "outputs": [],
   "source": [
    "labels = open(LabelsPath).read().strip().split('\\n')"
   ]
  },
  {
   "cell_type": "code",
   "execution_count": 6,
   "metadata": {},
   "outputs": [],
   "source": [
    "np.random.seed(42)\n",
    "COLORS = np.random.randint(0,255,size=(len(labels),3), dtype = 'uint8')"
   ]
  },
  {
   "cell_type": "code",
   "execution_count": 7,
   "metadata": {},
   "outputs": [],
   "source": [
    "WeightsPath = os.path.join(path,'yolov3.weights')\n",
    "ConfigPath = os.path.join(path,'yolov3.cfg')"
   ]
  },
  {
   "cell_type": "code",
   "execution_count": 17,
   "metadata": {},
   "outputs": [],
   "source": [
    "net = cv2.dnn.readNetFromDarknet(ConfigPath,WeightsPath)\n",
    "ln = net.getLayerNames()\n",
    "ln = [ln[i[0]-1] for i in net.getUnconnectedOutLayers()]\n",
    "vs = VideoStream(src=0).start()\n",
    "time.sleep(2.0)\n",
    "fps = FPS().start()\n",
    "while True:\n",
    "    frame = vs.read()\n",
    "    (H,W) = frame.shape[:2]\n",
    "    frame = imutils.resize(frame, width = 400)\n",
    "    (h,w) = frame.shape[:2]\n",
    "    blob = cv2.dnn.blobFromImage(frame, 1 / 255.0, (416, 416),swapRB=True, crop=False)\n",
    "    net.setInput(blob)\n",
    "    layeroutput = net.forward(ln)\n",
    "    \n",
    "    boxes = []\n",
    "    confidences = []\n",
    "    classIDs = []\n",
    "    \n",
    "    for output in layeroutput:\n",
    "        for detection in output:\n",
    "            \n",
    "            scores = detection[5:]\n",
    "            classID = np.argmax(scores)\n",
    "            confidence = scores[classID]\n",
    "            \n",
    "            if confidence > 0.5:\n",
    "                \n",
    "                box = detection[0:4]*np.array([W,H,W,H])\n",
    "                (centerX, centerY, width, height) = box.astype('int')\n",
    "                \n",
    "                x = int(centerX - (width/2))\n",
    "                y = int(centerY - (width)/2)\n",
    "                \n",
    "                boxes.append([x,y,int(width),int(height)])\n",
    "                confidences.append(float(confidence))\n",
    "                classIDs.append(classID)\n",
    "    idxs = cv2.dnn.NMSBoxes(boxes,confidences,0.5,0.3)\n",
    "    \n",
    "    if len(idxs)>0:\n",
    "        \n",
    "        for i in idxs.flatten():\n",
    "            \n",
    "            (x,y) = (boxes[i][0],boxes[i][1])\n",
    "            (w,h) = (boxes[i][2],boxes[i][3])\n",
    "            \n",
    "            color = [int(c) for c in COLORS[classIDs[i]]]\n",
    "            \n",
    "            cv2.rectangle(frame,(x,y),(x+w,y+h),color,2)\n",
    "            \n",
    "            text = '{}:{:.4f}'.format(labels[classIDs[i]],confidences[i])\n",
    "            \n",
    "            cv2.putText(frame,text,(x,y-5),cv2.FONT_HERSHEY_SIMPLEX,0.5,color,2)\n",
    "            \n",
    "    cv2.imshow(\"Frame\",frame)\n",
    "    key = cv2.waitKey(1) & 0xFF\n",
    "    \n",
    "    if key == ord('q'):\n",
    "        break\n",
    "        \n",
    "    fps.update()\n",
    "    \n",
    "fps.stop()\n",
    "\n",
    "cv2.destroyAllWindows()\n",
    "vs.stop()\n",
    "            \n",
    "                \n",
    "            \n",
    "                "
   ]
  },
  {
   "cell_type": "code",
   "execution_count": null,
   "metadata": {},
   "outputs": [],
   "source": []
  }
 ],
 "metadata": {
  "kernelspec": {
   "display_name": "Python [conda env:.conda-tensor_test] *",
   "language": "python",
   "name": "conda-env-.conda-tensor_test-py"
  },
  "language_info": {
   "codemirror_mode": {
    "name": "ipython",
    "version": 3
   },
   "file_extension": ".py",
   "mimetype": "text/x-python",
   "name": "python",
   "nbconvert_exporter": "python",
   "pygments_lexer": "ipython3",
   "version": "3.6.8"
  }
 },
 "nbformat": 4,
 "nbformat_minor": 2
}
